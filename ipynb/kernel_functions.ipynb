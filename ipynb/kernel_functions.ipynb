{
 "metadata": {
  "name": "",
  "signature": "sha256:10244f2032c37c976e4e404f60281d40e941a28dd974c6cacc69cbdfbf521c14"
 },
 "nbformat": 3,
 "nbformat_minor": 0,
 "worksheets": [
  {
   "cells": [
    {
     "cell_type": "code",
     "collapsed": false,
     "input": [
      "%matplotlib inline\n",
      "from IPython.html.widgets import interactive, interact\n",
      "from IPython.html import widgets\n",
      "from IPython.display import display, Image\n",
      "import glob\n",
      "\n",
      "from numpy import *"
     ],
     "language": "python",
     "metadata": {},
     "outputs": [],
     "prompt_number": null
    },
    {
     "cell_type": "code",
     "collapsed": false,
     "input": [
      "def selectDataset(dataset):\n",
      "    fnames = glob.glob(dataset+'/*.txt')\n",
      "    img = glob.glob(dataset+'/*.jpg')\n",
      "    print \"Preview:\"\n",
      "    if len(img)!=0 : display(Image(filename=img[0], width=320))\n",
      "    else: print \"   --- not available --- \"\n",
      "    print \"Found {0} files\".format(len(fnames))\n",
      "    return fnames\n",
      "data_select = interactive(selectDataset, dataset = widgets.RadioButtonsWidget(values=glob.glob('data/*')))\n",
      "display(data_select)"
     ],
     "language": "python",
     "metadata": {},
     "outputs": [],
     "prompt_number": null
    },
    {
     "cell_type": "code",
     "collapsed": false,
     "input": [
      "class Trajectory:\n",
      "    def __init__(self, id_):\n",
      "        self.id_ = id_\n",
      "        self.z = []\n",
      "        self.t = []\n",
      "\n",
      "    def update_self(self, z, t):\n",
      "        z = mat(z).T\n",
      "        if len(self.z)!=0:\n",
      "            if linalg.norm(self.z[-1] - z) > .1: return\n",
      "            if t - self.t[-1] > 1.5: return\n",
      "        self.z.append(z)\n",
      "        self.t.append(t)"
     ],
     "language": "python",
     "metadata": {},
     "outputs": [],
     "prompt_number": null
    },
    {
     "cell_type": "code",
     "collapsed": false,
     "input": [
      "from bisect import bisect_left, bisect_right\n",
      "\n",
      "def distances_kij(T, i, j):\n",
      "    tr = 0; tl = 0; d = []; offset = 0\n",
      "    for t in range(len(T[i].t)): # project Ti(t) on Tj\n",
      "        tr = bisect_right(T[j].t, T1[i].t[t], tl)\n",
      "        if tr != 0: tl = tr - 1\n",
      "        if T[j].t[tl] == T[i].t[t]:\n",
      "            d.append(T[i].z[t] - T[j].z[tl])\n",
      "        elif T[j].t[tl] > T[i].t[t]:\n",
      "            offset += 1; continue\n",
      "        elif tr == len(T[j].t):\n",
      "            if len(d)==0: zeros([3,1]), 0\n",
      "            else: return array(hstack(d)), offset\n",
      "        else:\n",
      "            a = (T[i].t[t] - T[j].t[tl]) / (T[j].t[tr] - T[j].t[tl])\n",
      "            d.append( T[i].z[t] - (a*T[j].z[tr] + (1.-a)*T[j].z[tl]) )\n",
      "    if len(d)==0: return zeros([3,1]), 0\n",
      "    else: return array(hstack(d)), offset"
     ],
     "language": "python",
     "metadata": {},
     "outputs": [],
     "prompt_number": null
    },
    {
     "cell_type": "code",
     "collapsed": false,
     "input": [
      "T1 = []\n",
      "Z = []\n",
      "id_ = 0\n",
      "for i in range(len(data_select.result)):\n",
      "    x = loadtxt(data_select.result[i])\n",
      "    if x.shape > 1:\n",
      "        T1.append(Trajectory(id_))\n",
      "        for j in range(len(x)): Z.append( (x[j,-1], id_, x[j,:-1]) )\n",
      "        id_ += 1\n",
      "Z.sort()\n",
      "for z in Z:\n",
      "    time, traj_id, point = z\n",
      "    T1[traj_id].update_self(point,time)"
     ],
     "language": "python",
     "metadata": {},
     "outputs": [],
     "prompt_number": null
    },
    {
     "cell_type": "code",
     "collapsed": false,
     "input": [
      "import matplotlib.pyplot as plt\n",
      "from mpl_toolkits.mplot3d import Axes3D\n",
      "def plot_id(Id1, Id2):\n",
      "    x1 = array(hstack(T1[Id1].z))\n",
      "    x2 = array(hstack(T1[Id2].z))\n",
      "    t1 = hstack(T1[Id1].t) - min(T1[Id1].t[0], T1[Id2].t[0])\n",
      "    t2 = hstack(T1[Id2].t) - min(T1[Id1].t[0], T1[Id2].t[0])\n",
      "    d1,off1 = distances_kij(T1, Id1, Id2)\n",
      "    d2,off2 = distances_kij(T1, Id2, Id1)\n",
      "    v1 = zeros(d1.shape)\n",
      "    #v2 = zeros(d2.shape)\n",
      "    for i in range(1,len(d1[0])): v1[:,i] = exp(-var(d1[:,:i],axis=1))\n",
      "    #for i in range(1,len(d2[0])): v2[:,i] = var(d2[:,:i],axis=1)\n",
      "\n",
      "    fig,ax = plt.subplots(nrows=3, ncols=3, figsize=(18,15))\n",
      "    titles = [['position x', 'position y', 'position z'], \n",
      "              ['distance x', 'distance y', 'distance z'],\n",
      "              ['variance x', 'variance y', 'variance z']]\n",
      "    ax[0,0].set_ylim([- .8,  .6]) #x\n",
      "    ax[0,1].set_ylim([- .4,  .4]) #y\n",
      "    ax[0,2].set_ylim([.6, 1.8]) #z\n",
      "    for c in range(len(ax[0])):\n",
      "        ax[0,c].grid()\n",
      "        ax[0,c].set_title(titles[0][c])\n",
      "        ax[0,c].plot(t1, x1[c,:],'-+')\n",
      "        ax[0,c].plot(t2, x2[c,:],'-+')\n",
      "        ax[1,c].grid()\n",
      "        ax[1,c].set_title(titles[1][c])\n",
      "        ax[1,c].plot(t1[off1:off1+len(d1[c])], d1[c], '-+')\n",
      "        ax[1,c].plot(t2[off2:off2+len(d2[c])], d2[c], '-+')\n",
      "        ax[2,c].grid()\n",
      "        ax[2,c].set_title(titles[2][c])\n",
      "        ax[2,c].plot(t1[off1+1:off1+len(d1[c])], v1[c][1:], '-+')\n",
      "        #ax[2,c].plot(t2[off2:off2+len(d2[c])], v2[c], '-+')\n",
      "\n",
      "interactive(plot_id, Id1=(0,len(T1)-1,1), Id2=(0,len(T1)-1,1))"
     ],
     "language": "python",
     "metadata": {},
     "outputs": [],
     "prompt_number": null
    },
    {
     "cell_type": "code",
     "collapsed": false,
     "input": [
      "selected_ids = [24, 52, 36, 43, 62, 63, 64, 74, 65, 66, 67, 69, 72, 73, 75]\n",
      "selected_ids = [ t.id_ for t in T1]"
     ],
     "language": "python",
     "metadata": {},
     "outputs": [],
     "prompt_number": null
    },
    {
     "cell_type": "code",
     "collapsed": false,
     "input": [
      "import matplotlib.pyplot as plt\n",
      "from mpl_toolkits.mplot3d import Axes3D\n",
      "fig,ax = plt.subplots(nrows=1, ncols=1, figsize=(18,12) ,subplot_kw=dict(projection='3d'))\n",
      "ax.grid()\n",
      "ax.set_xlabel('x')\n",
      "ax.set_ylabel('z')\n",
      "ax.set_zlabel('y')\n",
      "ax.view_init(elev=110,azim=-90)\n",
      "\n",
      "for Id in selected_ids:\n",
      "    tmp = array(hstack(T1[Id].z))\n",
      "    ax.plot(tmp[0,:],tmp[2,:],tmp[1,:])"
     ],
     "language": "python",
     "metadata": {},
     "outputs": [],
     "prompt_number": null
    },
    {
     "cell_type": "code",
     "collapsed": false,
     "input": [
      "n = len(selected_ids)\n",
      "K = zeros([n,n])\n",
      "for i in range(n):\n",
      "    for j in range(i+1,n):\n",
      "        iId = selected_ids[i]\n",
      "        jId = selected_ids[j]\n",
      "        d1,off1 = distances_kij(T1, iId, jId)\n",
      "        d2,off2 = distances_kij(T1, jId, iId)\n",
      "        if len(d1[0]) == 1 or len(d2[0]) == 1: K[i,j] = 0.0\n",
      "        else: K[i,j] = exp(-var(hstack([d1,d2])))\n",
      "K = K+K.T + diag(ones(n))"
     ],
     "language": "python",
     "metadata": {},
     "outputs": [],
     "prompt_number": null
    },
    {
     "cell_type": "code",
     "collapsed": false,
     "input": [
      "fig, ax = plt.subplots(figsize=(18,18))\n",
      "im = ax.imshow(K, interpolation='none', vmin=.9, cmap=plt.get_cmap('Oranges'))\n",
      "ret = ax.set_xticks(range(n))\n",
      "ret = ax.set_xticklabels(selected_ids)\n",
      "ret = ax.set_yticks(range(n))\n",
      "ret = ax.set_yticklabels(selected_ids)"
     ],
     "language": "python",
     "metadata": {},
     "outputs": [],
     "prompt_number": null
    },
    {
     "cell_type": "code",
     "collapsed": false,
     "input": [
      "val,vec=linalg.eig(K)\n",
      "idx = argsort(abs(val))\n",
      "fig,ax = plt.subplots(nrows=1, ncols=1, figsize=(18,8))\n",
      "ax.plot(abs(val[idx]), 'x-')"
     ],
     "language": "python",
     "metadata": {},
     "outputs": [],
     "prompt_number": null
    },
    {
     "cell_type": "code",
     "collapsed": false,
     "input": [
      "#print vec[idx][-1]\n",
      "def plot_pca(eig_idx):\n",
      "    ticks = array(selected_ids)\n",
      "    fig,ax = plt.subplots(nrows=1, ncols=1, figsize=(18,6))\n",
      "    ind = arange(0,n); width = .5\n",
      "    px = K.dot(vec[idx][eig_idx])\n",
      "    #p_idx = argsort(px)\n",
      "    ax.bar(ind, px, width, alpha=.5, color='r')\n",
      "    ax.set_xticks(ind+width*.5)\n",
      "    ax.set_xticklabels(ticks)\n",
      "    ax.yaxis.grid(True)\n",
      "interactive(plot_pca, eig_idx=(0,n-1,1))"
     ],
     "language": "python",
     "metadata": {},
     "outputs": [],
     "prompt_number": null
    },
    {
     "cell_type": "code",
     "collapsed": false,
     "input": [
      "from sklearn.mixture import GMM\n",
      "gmm = GMM(n_components=3, covariance_type='full')\n",
      "gmm.fit(K)\n",
      "c_gmm = gmm.predict(K)\n",
      "print vstack([selected_ids,c_gmm])"
     ],
     "language": "python",
     "metadata": {},
     "outputs": [],
     "prompt_number": null
    },
    {
     "cell_type": "code",
     "collapsed": false,
     "input": [
      "from sklearn.cluster import KMeans\n",
      "km = KMeans(n_clusters=3)\n",
      "km.fit(K)\n",
      "c_km = km.predict(K)\n",
      "print vstack([selected_ids,c_km])"
     ],
     "language": "python",
     "metadata": {},
     "outputs": [],
     "prompt_number": null
    },
    {
     "cell_type": "code",
     "collapsed": false,
     "input": [
      "colors = ['b','g','r','c','m','y']\n",
      "\n",
      "def plot_kernel_sorted(eig_idx):\n",
      "    px = K.dot(vec[idx][eig_idx])\n",
      "    p_idx = argsort(px)\n",
      "    Ks = K[p_idx,:]\n",
      "    Ks = Ks[:,p_idx]\n",
      "    #fig, ax = plt.subplots(figsize=(22,22))\n",
      "    fig, ax = plt.subplots(figsize=(18,18))\n",
      "    im = ax.imshow(Ks, interpolation='none', vmin=.0, cmap=plt.get_cmap('Oranges'))\n",
      "    ticks = array(selected_ids)[p_idx]\n",
      "    #ax.set_xticks(range(n))\n",
      "    #ax.set_xticklabels(ticks,fontsize=8)\n",
      "    ax.set_yticks(range(n))\n",
      "    yticks = ax.set_yticklabels(ticks,fontsize=8)\n",
      "    for i in range(len(yticks)):\n",
      "        yticks[i].set_color(colors[ c_gmm[ p_idx[i] ] ])\n",
      "interactive(plot_kernel_sorted, eig_idx=(0,n-1,1))\n"
     ],
     "language": "python",
     "metadata": {},
     "outputs": [],
     "prompt_number": null
    },
    {
     "cell_type": "code",
     "collapsed": false,
     "input": [
      "fig,ax = plt.subplots(nrows=1, ncols=1, figsize=(18,12) ,subplot_kw=dict(projection='3d'))\n",
      "ax.grid()\n",
      "ax.set_xlabel('x')\n",
      "ax.set_ylabel('z')\n",
      "ax.set_zlabel('y')\n",
      "ax.view_init(elev=110,azim=-90)\n",
      "\n",
      "for Id in selected_ids:\n",
      "    tmp = array(hstack(T1[Id].z))\n",
      "    ax.plot(tmp[0,:],tmp[2,:],tmp[1,:],color=colors[c_gmm[Id]])"
     ],
     "language": "python",
     "metadata": {},
     "outputs": [],
     "prompt_number": null
    },
    {
     "cell_type": "code",
     "collapsed": false,
     "input": [
      "#for ytick in yticks: print ytick.get_label\n",
      "print yticks[1]"
     ],
     "language": "python",
     "metadata": {},
     "outputs": [],
     "prompt_number": null
    },
    {
     "cell_type": "code",
     "collapsed": false,
     "input": [],
     "language": "python",
     "metadata": {},
     "outputs": [],
     "prompt_number": null
    },
    {
     "cell_type": "code",
     "collapsed": false,
     "input": [],
     "language": "python",
     "metadata": {},
     "outputs": []
    }
   ],
   "metadata": {}
  }
 ]
}