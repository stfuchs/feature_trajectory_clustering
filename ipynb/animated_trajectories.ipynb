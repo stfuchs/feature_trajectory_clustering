{
 "metadata": {
  "name": "",
  "signature": "sha256:df15a2e404fa523f8d9acfc648d2c9e808fc12d55ed04ccceef021f1c9b4f6cd"
 },
 "nbformat": 3,
 "nbformat_minor": 0,
 "worksheets": [
  {
   "cells": [
    {
     "cell_type": "code",
     "collapsed": false,
     "input": [
      "%matplotlib inline\n",
      "from IPython.html.widgets import interact, interactive, fixed\n",
      "from IPython.html import widgets\n",
      "from IPython.display import clear_output, display, HTML, Image\n",
      "import glob\n",
      "from collections import defaultdict\n",
      "\n",
      "import matplotlib.pyplot as plt\n",
      "from matplotlib import image\n",
      "from matplotlib import animation\n",
      "from JSAnimation.IPython_display import display_animation\n",
      "\n",
      "from numpy import *\n",
      "from sklearn.cluster import KMeans\n",
      "from sklearn.mixture import GMM"
     ],
     "language": "python",
     "metadata": {},
     "outputs": [],
     "prompt_number": null
    },
    {
     "cell_type": "markdown",
     "metadata": {},
     "source": [
      "# Trajectory"
     ]
    },
    {
     "cell_type": "code",
     "collapsed": false,
     "input": [
      "def selectDataset(dataset):\n",
      "    fnames = glob.glob(dataset+'/*.txt')\n",
      "    img = glob.glob(dataset+'/*.jpg')\n",
      "    print \"Preview:\"\n",
      "    if len(img)!=0 : display(Image(filename=img[0], width=320))\n",
      "    else: print \"   --- not available --- \"\n",
      "    print \"Found {0} files\".format(len(fnames))\n",
      "    return fnames\n",
      "data_select = interactive(selectDataset, dataset = widgets.RadioButtonsWidget(values=glob.glob('data/*')))\n",
      "display(data_select)"
     ],
     "language": "python",
     "metadata": {},
     "outputs": [],
     "prompt_number": null
    },
    {
     "cell_type": "code",
     "collapsed": false,
     "input": [
      "class Trajectory:\n",
      "    def __init__(self, id_):\n",
      "        self.dist = defaultdict(list)\n",
      "        self.id_ = id_\n",
      "        self.t = []\n",
      "        self.td_inv = 0.\n",
      "        self.z = []\n",
      "\n",
      "    ''' updates the trajectory when a new measurement is available'''\n",
      "    def update_self(self, z, t):\n",
      "        z = mat(z).T\n",
      "        if len(self.t)>0:\n",
      "            if linalg.norm(self.z[-1]-z) > .05: return\n",
      "            if t == self.t[-1]: return\n",
      "            if (t - self.t[-1]) > 1.: return\n",
      "            self.td_inv = 1./(t - self.t[-1])\n",
      "        self.t.append(t)\n",
      "        self.z.append(z)\n",
      "\n",
      "    ''' updates the distance to another trajectory using its most recent measuremnts'''\n",
      "    def update_distance_to(self, f):\n",
      "        if (len(self.t)==0): return False # we currently have not enough measurements\n",
      "        elif (self.t[-1] == f.t[-1]): d = linalg.norm(f.z[-1] - self.z[-1])\n",
      "        elif (self.t[-1] == f.t[-2]): d = linalg.norm(f.z[-2] - self.z[-1])\n",
      "        elif (self.t[-1] < f.t[-2]): return False\n",
      "        else: # lin interpolation\n",
      "            a = (self.t[-1] - f.t[-1])*f.td_inv\n",
      "            d = linalg.norm((a*f.z[-1] + (1.-a)*f.z[-2]) - self.z[-1])\n",
      "        self.dist[f.id_].append(d)\n",
      "        return True"
     ],
     "language": "python",
     "metadata": {},
     "outputs": [],
     "prompt_number": null
    },
    {
     "cell_type": "code",
     "collapsed": false,
     "input": [
      "T1 = []\n",
      "T2 = []\n",
      "Z = []\n",
      "\n",
      "id_ = 0\n",
      "for i in range(len(data_select.result)):\n",
      "    x = loadtxt(data_select.result[i])\n",
      "    if x.shape > 1:\n",
      "        T1.append(Trajectory(id_))\n",
      "        T2.append(Trajectory(id_))\n",
      "        for j in range(len(x)): Z.append( (x[j,-1], id_, x[j,:-1]) )\n",
      "        id_ += 1\n",
      "Z.sort()"
     ],
     "language": "python",
     "metadata": {},
     "outputs": [],
     "prompt_number": null
    },
    {
     "cell_type": "code",
     "collapsed": false,
     "input": [
      "def variance(f1, f2):\n",
      "    d = hstack([f1.dist[f2.id_], f2.dist[f1.id_]])\n",
      "    if d.size < 2: return 3.\n",
      "    v = var(d)\n",
      "    if v!=v: print f1.td_inv, f2.td_inv\n",
      "    return var(d)\n",
      "\n",
      "def processMeasurement(z,T):\n",
      "    time, traj_id, point = z\n",
      "    T[traj_id].update_self(point,time)\n",
      "    if len(T[traj_id].t) > 1:\n",
      "        for t in T: \n",
      "            if t.id_ != traj_id:\n",
      "                t.update_distance_to(T[traj_id])\n",
      "\n",
      "def calcKernel(T):\n",
      "    n = len(T)\n",
      "    K = zeros([n,n])\n",
      "    for i in range(n):\n",
      "        for j in range(i+1,n):\n",
      "            K[i,j] = exp(-variance(T[i],T[j]))\n",
      "    K = K+K.T + diag(ones(n))\n",
      "    return K\n",
      "\n",
      "def cluster(K,k):\n",
      "    w,v=linalg.eig(K)\n",
      "    idx = argsort(w)\n",
      "    gmm = GMM(n_components=k, covariance_type='full')\n",
      "    gmm.fit(K)\n",
      "    return gmm.predict(K), w[idx]"
     ],
     "language": "python",
     "metadata": {},
     "outputs": [],
     "prompt_number": null
    },
    {
     "cell_type": "code",
     "collapsed": false,
     "input": [
      "for z in Z:\n",
      "    #if (z[0] - Z[0][0]) > t: break\n",
      "    processMeasurement(z,T2)"
     ],
     "language": "python",
     "metadata": {},
     "outputs": [],
     "prompt_number": null
    },
    {
     "cell_type": "code",
     "collapsed": false,
     "input": [
      "Ki = calcKernel(T2)\n",
      "ci,evi = cluster(Ki,4)"
     ],
     "language": "python",
     "metadata": {},
     "outputs": [],
     "prompt_number": null
    },
    {
     "cell_type": "code",
     "collapsed": false,
     "input": [
      "fig, ax = plt.subplots(figsize=(18,18))\n",
      "im = ax.imshow(Ki, interpolation='none', vmin=.8, cmap=plt.get_cmap('Oranges'))"
     ],
     "language": "python",
     "metadata": {},
     "outputs": [],
     "prompt_number": null
    },
    {
     "cell_type": "code",
     "collapsed": false,
     "input": [
      "fig,ax = plt.subplots(nrows=1, ncols=1, figsize=(18,18), subplot_kw=dict(projection='3d'))\n",
      "#for axi in ax:\n",
      "ax.grid()\n",
      "ax.set_xlabel('z')\n",
      "ax.set_ylabel('x')\n",
      "ax.set_zlabel('y')\n",
      "ax.set_xlim([-1.8, -.6]) #z\n",
      "ax.set_ylim([- .5,  .5]) #x\n",
      "ax.set_zlim([- .4,  .2]) #y\n",
      "colors = ['b','g','r','c','m','k','y']\n",
      "for t in T2:\n",
      "    tmp = array(hstack(t.z))\n",
      "    ax.plot(-tmp[2,:],tmp[0,:],-tmp[1,:],color=colors[ci[t.id_]])"
     ],
     "language": "python",
     "metadata": {},
     "outputs": [],
     "prompt_number": null
    },
    {
     "cell_type": "code",
     "collapsed": false,
     "input": [
      "plt_kernel = []\n",
      "plt_eigv = []\n",
      "plt_traj_xz = []\n",
      "\n",
      "duration = Z[-1][0] - Z[0][0]\n",
      "skip_secs = 5.\n",
      "nFrames = ceil( (duration-skip_secs)*10.)\n",
      "frame_stamps = (linspace(skip_secs,duration,nFrames)+Z[0][0]).tolist()\n",
      "frame_stamps_copy = (linspace(duration,skip_secs,nFrames)+Z[0][0]).tolist()\n",
      "next_frame = frame_stamps_copy.pop()\n",
      "k = 4\n",
      "K = [] # kernel matrices at specific frames\n",
      "c = [] # classification vectors at specific frames\n",
      "ev =[] # eigenvalues at specific frames\n",
      "for z in Z:\n",
      "    processMeasurement(z,T1)\n",
      "    if z[0]>next_frame:\n",
      "        next_frame = frame_stamps_copy.pop()\n",
      "        K.append(calcKernel(T1))\n",
      "        ci,evi = cluster(K[-1],k)\n",
      "        c.append(ci)\n",
      "        ev.append(evi)\n"
     ],
     "language": "python",
     "metadata": {},
     "outputs": [],
     "prompt_number": null
    },
    {
     "cell_type": "code",
     "collapsed": false,
     "input": [
      "import matplotlib.pyplot as plt\n",
      "from mpl_toolkits.mplot3d import Axes3D\n",
      "fig,ax = plt.subplots(nrows=1, ncols=1, figsize=(18,18), subplot_kw=dict(projection='3d'))\n",
      "#for axi in ax:\n",
      "ax.grid()\n",
      "ax.set_xlabel('z')\n",
      "ax.set_ylabel('x')\n",
      "ax.set_zlabel('y')\n",
      "ax.set_xlim([-1.8, -.6]) #z\n",
      "ax.set_ylim([- .5,  .5]) #x\n",
      "ax.set_zlim([- .4,  .2]) #y\n",
      "\n",
      "for t in T1:\n",
      "    tmp = array(hstack(t.z))\n",
      "    ax.plot(-tmp[2,:],tmp[0,:],-tmp[1,:])"
     ],
     "language": "python",
     "metadata": {},
     "outputs": [],
     "prompt_number": null
    },
    {
     "cell_type": "code",
     "collapsed": false,
     "input": [
      "fig, ax = plt.subplots(figsize=(8,8))\n",
      "im = ax.imshow(K[0], interpolation='none', vmin=.8, cmap=plt.get_cmap('Oranges'))\n",
      "def set_time(t):\n",
      "    im.set_data(K[t])\n",
      "    fig.canvas.draw()\n",
      "    return im\n",
      "anim = animation.FuncAnimation(fig, set_time, frames=len(K), interval=20)\n",
      "display_animation(anim, default_mode='once')"
     ],
     "language": "python",
     "metadata": {},
     "outputs": [],
     "prompt_number": null
    },
    {
     "cell_type": "code",
     "collapsed": false,
     "input": [
      "def plot_ev(t):\n",
      "    fig,ax = plt.subplots(nrows=1, ncols=1, figsize=(18,8))\n",
      "    print c[t]\n",
      "    ax.plot(ev[t], 'x')\n",
      "interactive(plot_ev, t=(0,len(ev)-1,1))"
     ],
     "language": "python",
     "metadata": {},
     "outputs": [],
     "prompt_number": null
    },
    {
     "cell_type": "code",
     "collapsed": false,
     "input": [
      "fig,ax = plt.subplots(nrows=1, ncols=1, figsize=(18,18), subplot_kw=dict(projection='3d'))\n",
      "#for axi in ax:\n",
      "ax.grid()\n",
      "ax.set_xlabel('z')\n",
      "ax.set_ylabel('x')\n",
      "ax.set_zlabel('y')\n",
      "ax.set_xlim([-1.8, -.6]) #z\n",
      "ax.set_ylim([- .5,  .5]) #x\n",
      "ax.set_zlim([- .4,  .2]) #y\n",
      "colors = ['b','g','r','c','m','k','y']\n",
      "for t in T1:\n",
      "    tmp = array(hstack(t.z))\n",
      "    ax.plot(-tmp[2,:],tmp[0,:],-tmp[1,:],color=colors[c[-1][t.id_]])"
     ],
     "language": "python",
     "metadata": {},
     "outputs": [],
     "prompt_number": null
    },
    {
     "cell_type": "code",
     "collapsed": false,
     "input": [
      "colors = ['b','g','r','c','m','k','y']\n",
      "fig,ax = plt.subplots(figsize=(12,12))\n",
      "ax.set_xlim([-.5,.5])\n",
      "ax.set_ylim([.6,1.5])\n",
      "lines = []\n",
      "for i in range(len(T)):\n",
      "    lines.append( ax.plot([],[])[0] )\n",
      "    \n",
      "def set_time(t):\n",
      "    data = [[] for i in range(len(T))]\n",
      "    for z in Z:\n",
      "        time, Id, point = z\n",
      "        if time>frame_stamps[t]: break\n",
      "        data[Id].append(point)\n",
      "    for i in range(len(T)):\n",
      "        if len(data[i])==0: continue\n",
      "        tmp = vstack(data[i])\n",
      "        lines[i].set_data(tmp[:,0],tmp[:,2])\n",
      "        lines[i].set_color(colors[c[t][i]])\n",
      "    return lines\n",
      "\n",
      "anim = animation.FuncAnimation(fig, set_time, frames=len(K), interval=20)\n",
      "display_animation(anim, default_mode='once')"
     ],
     "language": "python",
     "metadata": {},
     "outputs": [],
     "prompt_number": null
    },
    {
     "cell_type": "code",
     "collapsed": false,
     "input": [],
     "language": "python",
     "metadata": {},
     "outputs": []
    }
   ],
   "metadata": {}
  }
 ]
}