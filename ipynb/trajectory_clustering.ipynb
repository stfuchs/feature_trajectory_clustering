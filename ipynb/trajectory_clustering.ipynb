{
 "metadata": {
  "name": "",
  "signature": "sha256:5561fcc9147b12360795838bd1f4ffb7cd635902430573a6ffab18e75f37e36d"
 },
 "nbformat": 3,
 "nbformat_minor": 0,
 "worksheets": [
  {
   "cells": [
    {
     "cell_type": "markdown",
     "metadata": {},
     "source": [
      "# Trajectory Clustering"
     ]
    },
    {
     "cell_type": "code",
     "collapsed": false,
     "input": [
      "%matplotlib inline\n",
      "from os import listdir\n",
      "from collections import defaultdict\n",
      "from numpy import *\n",
      "from sklearn.cluster import KMeans\n",
      "from sklearn.mixture import GMM\n",
      "import matplotlib.pyplot as plt\n",
      "import matplotlib.cm as pltcm\n",
      "import matplotlib.colors as pltcolors\n",
      "#import seaborn as sns\n",
      "#sns.set(context=\"paper\", font=\"monospace\")"
     ],
     "language": "python",
     "metadata": {},
     "outputs": [],
     "prompt_number": null
    },
    {
     "cell_type": "code",
     "collapsed": false,
     "input": [
      "class Trajectory:\n",
      "    def __init__(self, id_):\n",
      "        self.dist = defaultdict(list)\n",
      "        self.id_ = id_\n",
      "        self.t_curr = 0.\n",
      "        self.t_prev = 0.\n",
      "        self.td_inv = 0.\n",
      "        self.data = []\n",
      "\n",
      "    def update(self, x):\n",
      "        self.data.append(x[:-1])\n",
      "        self.t_prev = self.t_curr\n",
      "        self.t_curr = x[-1]\n",
      "        if(self.t_prev != 0):\n",
      "            self.td_inv = 1./(self.t_curr-self.t_prev)\n",
      "\n",
      "    def update_distance(self, f):\n",
      "        if (self.t_prev==0):\n",
      "            return False\n",
      "        elif (self.t_curr == f.t_curr):\n",
      "            d = linalg.norm(f.data[-1] - self.data[-1])\n",
      "        elif (self.t_curr == f.t_prev):\n",
      "            d = linalg.norm(f.data[-2] - self.data[-1])\n",
      "        elif (self.t_curr < f.t_prev):\n",
      "            return False\n",
      "        else:\n",
      "            a = (self.t_curr - f.t_curr)*f.td_inv\n",
      "            d = linalg.norm((a*f.data[-1] + (1.-a)*f.data[-2]) - self.data[-1])\n",
      "        self.dist[f.id_].append(d)\n",
      "        return True"
     ],
     "language": "python",
     "metadata": {},
     "outputs": [],
     "prompt_number": null
    },
    {
     "cell_type": "code",
     "collapsed": false,
     "input": [
      "def variance(f1, f2):\n",
      "    d = hstack([f1.dist[f2.id_], f2.dist[f1.id_]])\n",
      "    if d.size < 2: return 3.\n",
      "    return var(d)"
     ],
     "language": "python",
     "metadata": {},
     "outputs": [],
     "prompt_number": null
    },
    {
     "cell_type": "code",
     "collapsed": false,
     "input": [
      "#path = 'data/toytruck_with_hand/'\n",
      "#path = 'data/toytruck/'\n",
      "path = 'data/drawers_with_hand/'\n",
      "#path = 'data/toytruck_with_hand_and_tower/'\n",
      "fnames = listdir(path)\n",
      "data = []\n",
      "F = []\n",
      "timeline = []\n",
      "for i in range(len(fnames)):\n",
      "    x = loadtxt(path+fnames[i])\n",
      "    if len(x.shape) < 2:\n",
      "        print fnames[i]\n",
      "        continue\n",
      "    data.append(x)\n",
      "    F.append(Trajectory(i))\n",
      "    for j in range(len(x)):\n",
      "        timeline.append( (x[j,-1],i,x[j,:]) )\n",
      "timeline.sort()"
     ],
     "language": "python",
     "metadata": {},
     "outputs": [],
     "prompt_number": null
    },
    {
     "cell_type": "code",
     "collapsed": false,
     "input": [
      "for t in timeline[:]:\n",
      "    F[t[1]].update( t[2] )\n",
      "    if( F[t[1]].t_prev == 0 ): continue\n",
      "    for f in F:\n",
      "        if f.id_ == t[1]: continue\n",
      "        f.update_distance(F[t[1]])"
     ],
     "language": "python",
     "metadata": {},
     "outputs": [],
     "prompt_number": null
    },
    {
     "cell_type": "code",
     "collapsed": false,
     "input": [
      "n = len(F)\n",
      "K = zeros([n,n])\n",
      "for i in range(n):\n",
      "    for j in range(i+1,n):\n",
      "        K[i,j] = exp(-variance(F[i],F[j]))\n",
      "K = K+K.T + diag(ones(n))"
     ],
     "language": "python",
     "metadata": {},
     "outputs": [],
     "prompt_number": null
    },
    {
     "cell_type": "code",
     "collapsed": false,
     "input": [
      "#print K[72:80,72:80]\n",
      "print K.shape"
     ],
     "language": "python",
     "metadata": {},
     "outputs": [],
     "prompt_number": null
    },
    {
     "cell_type": "code",
     "collapsed": false,
     "input": [
      "fig, axes = plt.subplots(figsize=(12,12))\n",
      "#sns.heatmap(K, vmax=1., cmap='BuGn', linewidths=0, square=True, xticklabels=False, yticklabels=False)\n",
      "axes.imshow(K, interpolation='none', cmap=plt.get_cmap('Oranges'))"
     ],
     "language": "python",
     "metadata": {},
     "outputs": [],
     "prompt_number": null
    },
    {
     "cell_type": "code",
     "collapsed": false,
     "input": [
      "v,e=linalg.eig(K)\n",
      "idx = argsort(v)"
     ],
     "language": "python",
     "metadata": {},
     "outputs": [],
     "prompt_number": null
    },
    {
     "cell_type": "code",
     "collapsed": false,
     "input": [
      "fig, axes = plt.subplots(figsize=(12,5))\n",
      "axes.grid()\n",
      "axes.plot(v[idx], 'x')"
     ],
     "language": "python",
     "metadata": {},
     "outputs": [],
     "prompt_number": null
    },
    {
     "cell_type": "code",
     "collapsed": false,
     "input": [
      "k=4\n",
      "gmm = GMM(n_components=k, covariance_type='full')\n",
      "gmm.fit(K)\n",
      "c = gmm.predict(K)"
     ],
     "language": "python",
     "metadata": {},
     "outputs": [],
     "prompt_number": null
    },
    {
     "cell_type": "code",
     "collapsed": false,
     "input": [
      "colors = ['b','g','r','c','m','k','y']\n",
      "jet = plt.get_cmap('jet')\n",
      "cnorm = pltcolors.Normalize(vmin=0,vmax=1.)\n",
      "cmap = pltcm.ScalarMappable(norm=cnorm,cmap=jet)\n",
      "\n",
      "fig, axes = plt.subplots(figsize=(12,12))\n",
      "for i in range(len(F)):\n",
      "    if len(F[i].data) > 1:\n",
      "        tmp = vstack(F[i].data)\n",
      "        axes.plot(tmp[:,0],tmp[:,2], '-'+colors[ c[i] ])\n",
      "\n",
      "axes.grid()\n",
      "axes.set_xlabel('x')\n",
      "axes.set_ylabel('z')"
     ],
     "language": "python",
     "metadata": {},
     "outputs": [],
     "prompt_number": null
    },
    {
     "cell_type": "code",
     "collapsed": false,
     "input": [
      "fig, axes = plt.subplots(figsize=(12,12))\n",
      "for i in range(len(F)):\n",
      "    if len(F[i].data) > 1:\n",
      "        tmp = vstack(F[i].data)\n",
      "        axes.plot(tmp[:,1],tmp[:,2], '-'+colors[ c[i] ])\n",
      "\n",
      "axes.grid()\n",
      "axes.set_xlabel('y')\n",
      "axes.set_ylabel('z')"
     ],
     "language": "python",
     "metadata": {},
     "outputs": [],
     "prompt_number": null
    },
    {
     "cell_type": "code",
     "collapsed": false,
     "input": [],
     "language": "python",
     "metadata": {},
     "outputs": [],
     "prompt_number": null
    }
   ],
   "metadata": {}
  }
 ]
}